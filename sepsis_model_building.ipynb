{
 "cells": [
  {
   "cell_type": "code",
   "execution_count": 1,
   "id": "fefa9db0",
   "metadata": {},
   "outputs": [],
   "source": [
    "# importing all the required libraries\n",
    "\n",
    "import pandas as pd\n",
    "import seaborn as sns \n",
    "import numpy as np\n",
    "import matplotlib.pyplot as plt\n",
    "from sklearn.metrics import confusion_matrix\n",
    "from sklearn.ensemble import RandomForestClassifier\n",
    "from sklearn.model_selection import train_test_split\n",
    "from sklearn.linear_model import LogisticRegression\n",
    "from sklearn.impute import SimpleImputer\n",
    "from sklearn.impute import KNNImputer\n",
    "from sklearn.metrics import accuracy_score, precision_score, recall_score, f1_score\n",
    "from sklearn.metrics import confusion_matrix, roc_auc_score, mean_absolute_error, mean_squared_error\n",
    "import xgboost as xgb\n",
    "from sklearn.model_selection import GridSearchCV\n",
    "from sklearn.preprocessing import StandardScaler\n",
    "import scipy.stats as stats"
   ]
  },
  {
   "cell_type": "code",
   "execution_count": 2,
   "id": "8602b10e",
   "metadata": {},
   "outputs": [],
   "source": [
    "df=pd.read_csv('preprocessed_data.csv')"
   ]
  },
  {
   "cell_type": "code",
   "execution_count": 3,
   "id": "90e32290",
   "metadata": {},
   "outputs": [
    {
     "data": {
      "text/html": [
       "<div>\n",
       "<style scoped>\n",
       "    .dataframe tbody tr th:only-of-type {\n",
       "        vertical-align: middle;\n",
       "    }\n",
       "\n",
       "    .dataframe tbody tr th {\n",
       "        vertical-align: top;\n",
       "    }\n",
       "\n",
       "    .dataframe thead th {\n",
       "        text-align: right;\n",
       "    }\n",
       "</style>\n",
       "<table border=\"1\" class=\"dataframe\">\n",
       "  <thead>\n",
       "    <tr style=\"text-align: right;\">\n",
       "      <th></th>\n",
       "      <th>Unnamed: 0</th>\n",
       "      <th>Hour</th>\n",
       "      <th>HR</th>\n",
       "      <th>O2Sat</th>\n",
       "      <th>Temp</th>\n",
       "      <th>MAP</th>\n",
       "      <th>Resp</th>\n",
       "      <th>BUN</th>\n",
       "      <th>Chloride</th>\n",
       "      <th>Creatinine</th>\n",
       "      <th>Glucose</th>\n",
       "      <th>Hct</th>\n",
       "      <th>Hgb</th>\n",
       "      <th>WBC</th>\n",
       "      <th>Platelets</th>\n",
       "      <th>Age</th>\n",
       "      <th>Gender</th>\n",
       "      <th>HospAdmTime</th>\n",
       "      <th>ICULOS</th>\n",
       "      <th>SepsisLabel</th>\n",
       "    </tr>\n",
       "  </thead>\n",
       "  <tbody>\n",
       "    <tr>\n",
       "      <th>0</th>\n",
       "      <td>0</td>\n",
       "      <td>0</td>\n",
       "      <td>65.0</td>\n",
       "      <td>100.0</td>\n",
       "      <td>35.78</td>\n",
       "      <td>72.0</td>\n",
       "      <td>16.5</td>\n",
       "      <td>23.0</td>\n",
       "      <td>104.0</td>\n",
       "      <td>0.8</td>\n",
       "      <td>161.0</td>\n",
       "      <td>29.7</td>\n",
       "      <td>9.5</td>\n",
       "      <td>11.3</td>\n",
       "      <td>330.0</td>\n",
       "      <td>68.54</td>\n",
       "      <td>0</td>\n",
       "      <td>-0.02</td>\n",
       "      <td>1</td>\n",
       "      <td>0</td>\n",
       "    </tr>\n",
       "    <tr>\n",
       "      <th>1</th>\n",
       "      <td>1</td>\n",
       "      <td>1</td>\n",
       "      <td>65.0</td>\n",
       "      <td>100.0</td>\n",
       "      <td>35.78</td>\n",
       "      <td>72.0</td>\n",
       "      <td>16.5</td>\n",
       "      <td>23.0</td>\n",
       "      <td>104.0</td>\n",
       "      <td>0.8</td>\n",
       "      <td>161.0</td>\n",
       "      <td>29.7</td>\n",
       "      <td>9.5</td>\n",
       "      <td>11.3</td>\n",
       "      <td>330.0</td>\n",
       "      <td>68.54</td>\n",
       "      <td>0</td>\n",
       "      <td>-0.02</td>\n",
       "      <td>2</td>\n",
       "      <td>0</td>\n",
       "    </tr>\n",
       "    <tr>\n",
       "      <th>2</th>\n",
       "      <td>2</td>\n",
       "      <td>2</td>\n",
       "      <td>78.0</td>\n",
       "      <td>100.0</td>\n",
       "      <td>35.78</td>\n",
       "      <td>42.5</td>\n",
       "      <td>17.0</td>\n",
       "      <td>23.0</td>\n",
       "      <td>104.0</td>\n",
       "      <td>0.8</td>\n",
       "      <td>161.0</td>\n",
       "      <td>29.7</td>\n",
       "      <td>9.5</td>\n",
       "      <td>11.3</td>\n",
       "      <td>330.0</td>\n",
       "      <td>68.54</td>\n",
       "      <td>0</td>\n",
       "      <td>-0.02</td>\n",
       "      <td>3</td>\n",
       "      <td>0</td>\n",
       "    </tr>\n",
       "    <tr>\n",
       "      <th>3</th>\n",
       "      <td>3</td>\n",
       "      <td>3</td>\n",
       "      <td>73.0</td>\n",
       "      <td>100.0</td>\n",
       "      <td>35.78</td>\n",
       "      <td>74.0</td>\n",
       "      <td>17.0</td>\n",
       "      <td>23.0</td>\n",
       "      <td>104.0</td>\n",
       "      <td>0.8</td>\n",
       "      <td>161.0</td>\n",
       "      <td>29.7</td>\n",
       "      <td>9.5</td>\n",
       "      <td>11.3</td>\n",
       "      <td>330.0</td>\n",
       "      <td>68.54</td>\n",
       "      <td>0</td>\n",
       "      <td>-0.02</td>\n",
       "      <td>4</td>\n",
       "      <td>0</td>\n",
       "    </tr>\n",
       "    <tr>\n",
       "      <th>4</th>\n",
       "      <td>4</td>\n",
       "      <td>4</td>\n",
       "      <td>70.0</td>\n",
       "      <td>100.0</td>\n",
       "      <td>35.78</td>\n",
       "      <td>74.0</td>\n",
       "      <td>14.0</td>\n",
       "      <td>23.0</td>\n",
       "      <td>104.0</td>\n",
       "      <td>0.8</td>\n",
       "      <td>161.0</td>\n",
       "      <td>29.7</td>\n",
       "      <td>9.5</td>\n",
       "      <td>11.3</td>\n",
       "      <td>330.0</td>\n",
       "      <td>68.54</td>\n",
       "      <td>0</td>\n",
       "      <td>-0.02</td>\n",
       "      <td>5</td>\n",
       "      <td>0</td>\n",
       "    </tr>\n",
       "  </tbody>\n",
       "</table>\n",
       "</div>"
      ],
      "text/plain": [
       "   Unnamed: 0  Hour    HR  O2Sat   Temp   MAP  Resp   BUN  Chloride  \\\n",
       "0           0     0  65.0  100.0  35.78  72.0  16.5  23.0     104.0   \n",
       "1           1     1  65.0  100.0  35.78  72.0  16.5  23.0     104.0   \n",
       "2           2     2  78.0  100.0  35.78  42.5  17.0  23.0     104.0   \n",
       "3           3     3  73.0  100.0  35.78  74.0  17.0  23.0     104.0   \n",
       "4           4     4  70.0  100.0  35.78  74.0  14.0  23.0     104.0   \n",
       "\n",
       "   Creatinine  Glucose   Hct  Hgb   WBC  Platelets    Age  Gender  \\\n",
       "0         0.8    161.0  29.7  9.5  11.3      330.0  68.54       0   \n",
       "1         0.8    161.0  29.7  9.5  11.3      330.0  68.54       0   \n",
       "2         0.8    161.0  29.7  9.5  11.3      330.0  68.54       0   \n",
       "3         0.8    161.0  29.7  9.5  11.3      330.0  68.54       0   \n",
       "4         0.8    161.0  29.7  9.5  11.3      330.0  68.54       0   \n",
       "\n",
       "   HospAdmTime  ICULOS  SepsisLabel  \n",
       "0        -0.02       1            0  \n",
       "1        -0.02       2            0  \n",
       "2        -0.02       3            0  \n",
       "3        -0.02       4            0  \n",
       "4        -0.02       5            0  "
      ]
     },
     "execution_count": 3,
     "metadata": {},
     "output_type": "execute_result"
    }
   ],
   "source": [
    "df.head()"
   ]
  },
  {
   "cell_type": "code",
   "execution_count": 4,
   "id": "529536a8",
   "metadata": {},
   "outputs": [
    {
     "name": "stdout",
     "output_type": "stream",
     "text": [
      "<class 'pandas.core.frame.DataFrame'>\n",
      "RangeIndex: 1552210 entries, 0 to 1552209\n",
      "Data columns (total 20 columns):\n",
      " #   Column       Non-Null Count    Dtype  \n",
      "---  ------       --------------    -----  \n",
      " 0   Unnamed: 0   1552210 non-null  int64  \n",
      " 1   Hour         1552210 non-null  int64  \n",
      " 2   HR           1552068 non-null  float64\n",
      " 3   O2Sat        1551836 non-null  float64\n",
      " 4   Temp         1544780 non-null  float64\n",
      " 5   MAP          1549512 non-null  float64\n",
      " 6   Resp         1550211 non-null  float64\n",
      " 7   BUN          1502018 non-null  float64\n",
      " 8   Chloride     855185 non-null   float64\n",
      " 9   Creatinine   1501368 non-null  float64\n",
      " 10  Glucose      1510164 non-null  float64\n",
      " 11  Hct          1493436 non-null  float64\n",
      " 12  Hgb          1490691 non-null  float64\n",
      " 13  WBC          1486591 non-null  float64\n",
      " 14  Platelets    1487784 non-null  float64\n",
      " 15  Age          1552210 non-null  float64\n",
      " 16  Gender       1552210 non-null  int64  \n",
      " 17  HospAdmTime  1552202 non-null  float64\n",
      " 18  ICULOS       1552210 non-null  int64  \n",
      " 19  SepsisLabel  1552210 non-null  int64  \n",
      "dtypes: float64(15), int64(5)\n",
      "memory usage: 236.8 MB\n"
     ]
    }
   ],
   "source": [
    "df.info()"
   ]
  },
  {
   "cell_type": "code",
   "execution_count": 5,
   "id": "8df7ab67",
   "metadata": {},
   "outputs": [
    {
     "data": {
      "text/plain": [
       "Unnamed: 0          0\n",
       "Hour                0\n",
       "HR                142\n",
       "O2Sat             374\n",
       "Temp             7430\n",
       "MAP              2698\n",
       "Resp             1999\n",
       "BUN             50192\n",
       "Chloride       697025\n",
       "Creatinine      50842\n",
       "Glucose         42046\n",
       "Hct             58774\n",
       "Hgb             61519\n",
       "WBC             65619\n",
       "Platelets       64426\n",
       "Age                 0\n",
       "Gender              0\n",
       "HospAdmTime         8\n",
       "ICULOS              0\n",
       "SepsisLabel         0\n",
       "dtype: int64"
      ]
     },
     "execution_count": 5,
     "metadata": {},
     "output_type": "execute_result"
    }
   ],
   "source": [
    "df.isnull().sum()"
   ]
  },
  {
   "cell_type": "code",
   "execution_count": 6,
   "id": "1dff7779",
   "metadata": {},
   "outputs": [
    {
     "data": {
      "text/plain": [
       "Index(['Unnamed: 0', 'Hour', 'HR', 'O2Sat', 'Temp', 'MAP', 'Resp', 'BUN',\n",
       "       'Chloride', 'Creatinine', 'Glucose', 'Hct', 'Hgb', 'WBC', 'Platelets',\n",
       "       'Age', 'Gender', 'HospAdmTime', 'ICULOS', 'SepsisLabel'],\n",
       "      dtype='object')"
      ]
     },
     "execution_count": 6,
     "metadata": {},
     "output_type": "execute_result"
    }
   ],
   "source": [
    "df.columns"
   ]
  },
  {
   "cell_type": "code",
   "execution_count": 7,
   "id": "948b7a32",
   "metadata": {},
   "outputs": [],
   "source": [
    "df.drop(columns=['Unnamed: 0'], inplace=True)"
   ]
  },
  {
   "cell_type": "code",
   "execution_count": 8,
   "id": "958190c5",
   "metadata": {},
   "outputs": [
    {
     "data": {
      "text/plain": [
       "Index(['Hour', 'HR', 'O2Sat', 'Temp', 'MAP', 'Resp', 'BUN', 'Chloride',\n",
       "       'Creatinine', 'Glucose', 'Hct', 'Hgb', 'WBC', 'Platelets', 'Age',\n",
       "       'Gender', 'HospAdmTime', 'ICULOS', 'SepsisLabel'],\n",
       "      dtype='object')"
      ]
     },
     "execution_count": 8,
     "metadata": {},
     "output_type": "execute_result"
    }
   ],
   "source": [
    "df.columns"
   ]
  },
  {
   "cell_type": "code",
   "execution_count": 9,
   "id": "dfc4c34e",
   "metadata": {},
   "outputs": [],
   "source": [
    "# Fill missing values with mean for numerical columns\n",
    "num_cols = ['HR', 'O2Sat', 'Temp', 'MAP', 'Resp', 'BUN', 'Chloride', 'Creatinine', 'Glucose', 'Hct', 'Hgb', 'WBC', 'Platelets']\n",
    "for col in num_cols:\n",
    "    df[col].fillna(df[col].mean(), inplace=True)"
   ]
  },
  {
   "cell_type": "code",
   "execution_count": 10,
   "id": "fe6f4a4c",
   "metadata": {},
   "outputs": [
    {
     "data": {
      "text/plain": [
       "Hour           0\n",
       "HR             0\n",
       "O2Sat          0\n",
       "Temp           0\n",
       "MAP            0\n",
       "Resp           0\n",
       "BUN            0\n",
       "Chloride       0\n",
       "Creatinine     0\n",
       "Glucose        0\n",
       "Hct            0\n",
       "Hgb            0\n",
       "WBC            0\n",
       "Platelets      0\n",
       "Age            0\n",
       "Gender         0\n",
       "HospAdmTime    8\n",
       "ICULOS         0\n",
       "SepsisLabel    0\n",
       "dtype: int64"
      ]
     },
     "execution_count": 10,
     "metadata": {},
     "output_type": "execute_result"
    }
   ],
   "source": [
    "df.isnull().sum()"
   ]
  },
  {
   "cell_type": "code",
   "execution_count": 12,
   "id": "ef903956",
   "metadata": {},
   "outputs": [
    {
     "data": {
      "image/png": "[encoded data removed]",
      "text/plain": [
       "<Figure size 432x288 with 1 Axes>"
      ]
     },
     "metadata": {},
     "output_type": "display_data"
    }
   ],
   "source": [
    "import seaborn as sns\n",
    "import matplotlib.pyplot as plt\n",
    "\n",
    "# Count the values in 'SepsisLabel'\n",
    "label_counts = df['SepsisLabel'].value_counts()\n",
    "\n",
    "# Set plot style\n",
    "sns.set(style=\"whitegrid\")\n",
    "\n",
    "# Plot barplot for 'SepsisLabel' counts\n",
    "plt.figure(figsize=(6, 4))\n",
    "ax = sns.countplot(data=df, x='SepsisLabel', palette='viridis')\n",
    "\n",
    "# Annotate the counts above each bar\n",
    "for i, count in enumerate(label_counts):\n",
    "    ax.text(i, count + 5, f'{count}', ha='center', va='bottom', fontweight='bold')\n",
    "\n",
    "# Add title and labels\n",
    "plt.title('SepsisLabel Counts')\n",
    "plt.xlabel('SepsisLabel')\n",
    "plt.ylabel('Count')\n",
    "\n",
    "# Display the plot\n",
    "plt.show()\n"
   ]
  },
  {
   "cell_type": "code",
   "execution_count": 13,
   "id": "6929ed50",
   "metadata": {},
   "outputs": [
    {
     "name": "stdout",
     "output_type": "stream",
     "text": [
      "0    27916\n",
      "1    27916\n",
      "Name: SepsisLabel, dtype: int64\n"
     ]
    }
   ],
   "source": [
    "from sklearn.utils import resample\n",
    "\n",
    "# Separate the majority and minority classes\n",
    "df_majority = df[df['SepsisLabel'] == 0]\n",
    "df_minority = df[df['SepsisLabel'] == 1]\n",
    "\n",
    "# Downsample the majority class to match the size of the minority class\n",
    "df_majority_downsampled = resample(df_majority,\n",
    "                                   replace=False,          # sample without replacement\n",
    "                                   n_samples=len(df_minority),  # match minority class size\n",
    "                                   random_state=42)        # for reproducibility\n",
    "\n",
    "# Combine downsampled majority class with the minority class\n",
    "df_downsampled = pd.concat([df_majority_downsampled, df_minority])\n",
    "\n",
    "# Shuffle the resulting dataframe\n",
    "df_downsampled = df_downsampled.sample(frac=1, random_state=42).reset_index(drop=True)\n",
    "\n",
    "# Update the original dataframe\n",
    "df = df_downsampled\n",
    "\n",
    "# Display the class distribution to verify\n",
    "print(df['SepsisLabel'].value_counts())\n"
   ]
  },
  {
   "cell_type": "code",
   "execution_count": 14,
   "id": "39801b8d",
   "metadata": {},
   "outputs": [
    {
     "data": {
      "image/png": "[encoded data removed]",
      "text/plain": [
       "<Figure size 432x288 with 1 Axes>"
      ]
     },
     "metadata": {},
     "output_type": "display_data"
    }
   ],
   "source": [
    "import seaborn as sns\n",
    "import matplotlib.pyplot as plt\n",
    "\n",
    "# Count the values in 'SepsisLabel'\n",
    "label_counts = df['SepsisLabel'].value_counts()\n",
    "\n",
    "# Set plot style\n",
    "sns.set(style=\"whitegrid\")\n",
    "\n",
    "# Plot barplot for 'SepsisLabel' counts\n",
    "plt.figure(figsize=(6, 4))\n",
    "ax = sns.countplot(data=df, x='SepsisLabel', palette='viridis')\n",
    "\n",
    "# Annotate the counts above each bar\n",
    "for i, count in enumerate(label_counts):\n",
    "    ax.text(i, count + 5, f'{count}', ha='center', va='bottom', fontweight='bold')\n",
    "\n",
    "# Add title and labels\n",
    "plt.title('SepsisLabel Counts')\n",
    "plt.xlabel('SepsisLabel')\n",
    "plt.ylabel('Count')\n",
    "\n",
    "# Display the plot\n",
    "plt.show()\n"
   ]
  },
  {
   "cell_type": "code",
   "execution_count": 15,
   "id": "e0575e18",
   "metadata": {},
   "outputs": [],
   "source": [
    "# Split the dataset into training and testing sets\n",
    "X = df.drop('SepsisLabel', axis=1)\n",
    "y = df['SepsisLabel']\n",
    "X_train, X_test, y_train, y_test = train_test_split(X, y, test_size=0.3, random_state=42)\n"
   ]
  },
  {
   "cell_type": "code",
   "execution_count": 17,
   "id": "1c726273",
   "metadata": {},
   "outputs": [],
   "source": [
    "from sklearn.model_selection import train_test_split\n",
    "from sklearn.ensemble import RandomForestClassifier\n",
    "from xgboost import XGBClassifier\n",
    "from sklearn.neighbors import KNeighborsClassifier\n",
    "from sklearn.linear_model import LogisticRegression\n",
    "from sklearn.metrics import accuracy_score, log_loss, confusion_matrix, classification_report\n",
    "import matplotlib.pyplot as plt\n",
    "import seaborn as sns\n",
    "import pandas as pd\n"
   ]
  },
  {
   "cell_type": "code",
   "execution_count": 18,
   "id": "e9e5391b",
   "metadata": {},
   "outputs": [],
   "source": [
    "# Dictionary to store model results\n",
    "results = {}\n",
    "\n",
    "# 1. Random Forest Classifier\n",
    "rf = RandomForestClassifier(random_state=42)\n",
    "rf.fit(X_train, y_train)\n",
    "y_pred_rf = rf.predict(X_test)\n",
    "y_pred_rf_proba = rf.predict_proba(X_test)[:, 1]\n",
    "\n",
    "# Metrics for Random Forest\n",
    "results['Random Forest'] = {\n",
    "    'Accuracy': accuracy_score(y_test, y_pred_rf),\n",
    "    'Log Loss': log_loss(y_test, y_pred_rf_proba),\n",
    "    'Confusion Matrix': confusion_matrix(y_test, y_pred_rf),\n",
    "    'Classification Report': classification_report(y_test, y_pred_rf, output_dict=True)\n",
    "}"
   ]
  },
  {
   "cell_type": "code",
   "execution_count": 19,
   "id": "6be8ad46",
   "metadata": {},
   "outputs": [],
   "source": [
    "# 2. XGBoost Classifier\n",
    "xgb = XGBClassifier(use_label_encoder=False, eval_metric='logloss', random_state=42)\n",
    "xgb.fit(X_train, y_train)\n",
    "y_pred_xgb = xgb.predict(X_test)\n",
    "y_pred_xgb_proba = xgb.predict_proba(X_test)[:, 1]\n",
    "\n",
    "# Metrics for XGBoost\n",
    "results['XGBoost'] = {\n",
    "    'Accuracy': accuracy_score(y_test, y_pred_xgb),\n",
    "    'Log Loss': log_loss(y_test, y_pred_xgb_proba),\n",
    "    'Confusion Matrix': confusion_matrix(y_test, y_pred_xgb),\n",
    "    'Classification Report': classification_report(y_test, y_pred_xgb, output_dict=True)\n",
    "}"
   ]
  },
  {
   "cell_type": "code",
   "execution_count": 26,
   "id": "3c21037d",
   "metadata": {},
   "outputs": [],
   "source": [
    "from sklearn.tree import DecisionTreeClassifier\n",
    "# 3. Decision Tree Classifier\n",
    "dt = DecisionTreeClassifier(random_state=42)\n",
    "dt.fit(X_train, y_train)\n",
    "y_pred_dt = dt.predict(X_test)\n",
    "y_pred_dt_proba = dt.predict_proba(X_test)[:, 1]\n",
    "\n",
    "# Metrics for Decision Tree\n",
    "results['Decision Tree'] = {\n",
    "    'Accuracy': accuracy_score(y_test, y_pred_dt),\n",
    "    'Log Loss': log_loss(y_test, y_pred_dt_proba),\n",
    "    'Confusion Matrix': confusion_matrix(y_test, y_pred_dt),\n",
    "    'Classification Report': classification_report(y_test, y_pred_dt, output_dict=True)\n",
    "}"
   ]
  },
  {
   "cell_type": "code",
   "execution_count": 21,
   "id": "c2974762",
   "metadata": {},
   "outputs": [
    {
     "name": "stderr",
     "output_type": "stream",
     "text": [
      "/home/admin1/anaconda3/envs/agri/lib/python3.7/site-packages/sklearn/linear_model/_logistic.py:818: ConvergenceWarning: lbfgs failed to converge (status=1):\n",
      "STOP: TOTAL NO. of ITERATIONS REACHED LIMIT.\n",
      "\n",
      "Increase the number of iterations (max_iter) or scale the data as shown in:\n",
      "    https://scikit-learn.org/stable/modules/preprocessing.html\n",
      "Please also refer to the documentation for alternative solver options:\n",
      "    https://scikit-learn.org/stable/modules/linear_model.html#logistic-regression\n",
      "  extra_warning_msg=_LOGISTIC_SOLVER_CONVERGENCE_MSG,\n"
     ]
    }
   ],
   "source": [
    "# 4. Logistic Regression Classifier\n",
    "lr = LogisticRegression(max_iter=1000, random_state=42)\n",
    "lr.fit(X_train, y_train)\n",
    "y_pred_lr = lr.predict(X_test)\n",
    "y_pred_lr_proba = lr.predict_proba(X_test)[:, 1]\n",
    "\n",
    "# Metrics for Logistic Regression\n",
    "results['Logistic Regression'] = {\n",
    "    'Accuracy': accuracy_score(y_test, y_pred_lr),\n",
    "    'Log Loss': log_loss(y_test, y_pred_lr_proba),\n",
    "    'Confusion Matrix': confusion_matrix(y_test, y_pred_lr),\n",
    "    'Classification Report': classification_report(y_test, y_pred_lr, output_dict=True)\n",
    "}"
   ]
  },
  {
   "cell_type": "code",
   "execution_count": 27,
   "id": "21d67da3",
   "metadata": {},
   "outputs": [
    {
     "name": "stdout",
     "output_type": "stream",
     "text": [
      "\n",
      "Model: Random Forest\n",
      "Accuracy: 0.9413\n",
      "Log Loss: 0.2488\n",
      "Confusion Matrix:\n",
      "[[7578  779]\n",
      " [ 204 8189]]\n",
      "Classification Report:\n",
      "              precision    recall  f1-score       support\n",
      "0              0.973786  0.906785  0.939092   8357.000000\n",
      "1              0.913136  0.975694  0.943379   8393.000000\n",
      "accuracy       0.941313  0.941313  0.941313      0.941313\n",
      "macro avg      0.943461  0.941239  0.941235  16750.000000\n",
      "weighted avg   0.943395  0.941313  0.941240  16750.000000\n",
      "\n",
      "Model: XGBoost\n",
      "Accuracy: 0.8704\n",
      "Log Loss: 0.3391\n",
      "Confusion Matrix:\n",
      "[[7173 1184]\n",
      " [ 987 7406]]\n",
      "Classification Report:\n",
      "              precision    recall  f1-score       support\n",
      "0              0.879044  0.858322  0.868560   8357.000000\n",
      "1              0.862165  0.882402  0.872166   8393.000000\n",
      "accuracy       0.870388  0.870388  0.870388      0.870388\n",
      "macro avg      0.870605  0.870362  0.870363  16750.000000\n",
      "weighted avg   0.870587  0.870388  0.870367  16750.000000\n",
      "\n",
      "Model: Logistic Regression\n",
      "Accuracy: 0.6807\n",
      "Log Loss: 0.6068\n",
      "Confusion Matrix:\n",
      "[[6239 2118]\n",
      " [3230 5163]]\n",
      "Classification Report:\n",
      "              precision    recall  f1-score       support\n",
      "0              0.658887  0.746560  0.699989   8357.000000\n",
      "1              0.709106  0.615155  0.658798   8393.000000\n",
      "accuracy       0.680716  0.680716  0.680716      0.680716\n",
      "macro avg      0.683996  0.680858  0.679393  16750.000000\n",
      "weighted avg   0.684050  0.680716  0.679349  16750.000000\n",
      "\n",
      "Model: Decision Tree\n",
      "Accuracy: 0.8625\n",
      "Log Loss: 4.7489\n",
      "Confusion Matrix:\n",
      "[[6803 1554]\n",
      " [ 749 7644]]\n",
      "Classification Report:\n",
      "              precision    recall  f1-score       support\n",
      "0              0.900821  0.814048  0.855239   8357.000000\n",
      "1              0.831050  0.910759  0.869081   8393.000000\n",
      "accuracy       0.862507  0.862507  0.862507      0.862507\n",
      "macro avg      0.865936  0.862404  0.862160  16750.000000\n",
      "weighted avg   0.865861  0.862507  0.862175  16750.000000\n"
     ]
    }
   ],
   "source": [
    "# Display results for each model\n",
    "for model_name, metrics in results.items():\n",
    "    print(f\"\\nModel: {model_name}\")\n",
    "    print(f\"Accuracy: {metrics['Accuracy']:.4f}\")\n",
    "    print(f\"Log Loss: {metrics['Log Loss']:.4f}\")\n",
    "    print(\"Confusion Matrix:\")\n",
    "    print(metrics['Confusion Matrix'])\n",
    "    print(\"Classification Report:\")\n",
    "    print(pd.DataFrame(metrics['Classification Report']).transpose())"
   ]
  },
  {
   "cell_type": "code",
   "execution_count": 28,
   "id": "46794164",
   "metadata": {},
   "outputs": [
    {
     "data": {
      "image/png": "[encoded data removed]",
      "text/plain": [
       "<Figure size 864x360 with 2 Axes>"
      ]
     },
     "metadata": {},
     "output_type": "display_data"
    }
   ],
   "source": [
    "# Plot comparison of Accuracy and Log Loss for each model\n",
    "models = list(results.keys())\n",
    "accuracies = [results[model]['Accuracy'] for model in models]\n",
    "log_losses = [results[model]['Log Loss'] for model in models]\n",
    "\n",
    "fig, ax = plt.subplots(1, 2, figsize=(12, 5))\n",
    "\n",
    "# Accuracy comparison bar plot\n",
    "sns.barplot(x=models, y=accuracies, ax=ax[0], palette=\"viridis\")\n",
    "ax[0].set_title(\"Model Comparison - Accuracy\")\n",
    "ax[0].set_xlabel(\"Model\")\n",
    "ax[0].set_ylabel(\"Accuracy\")\n",
    "\n",
    "# Log Loss comparison bar plot\n",
    "sns.barplot(x=models, y=log_losses, ax=ax[1], palette=\"viridis\")\n",
    "ax[1].set_title(\"Model Comparison - Log Loss\")\n",
    "ax[1].set_xlabel(\"Model\")\n",
    "ax[1].set_ylabel(\"Log Loss\")\n",
    "\n",
    "plt.tight_layout()\n",
    "plt.show()"
   ]
  },
  {
   "cell_type": "code",
   "execution_count": 29,
   "id": "4ae7c6bb",
   "metadata": {},
   "outputs": [
    {
     "name": "stdout",
     "output_type": "stream",
     "text": [
      "Loaded Model Accuracy: 0.9413\n"
     ]
    }
   ],
   "source": [
    "import pickle\n",
    "from sklearn.ensemble import RandomForestClassifier\n",
    "\n",
    "# Save the Random Forest model as a pickle file\n",
    "with open('random_forest_model.pkl', 'wb') as file:\n",
    "    pickle.dump(rf, file)\n",
    "\n",
    "# Load the model from the pickle file\n",
    "with open('random_forest_model.pkl', 'rb') as file:\n",
    "    loaded_rf = pickle.load(file)\n",
    "\n",
    "# Predict on test data using the loaded model\n",
    "y_pred_loaded_rf = loaded_rf.predict(X_test)\n",
    "y_pred_loaded_rf_proba = loaded_rf.predict_proba(X_test)[:, 1]\n",
    "\n",
    "# Calculate and print accuracy to verify\n",
    "accuracy_loaded_rf = accuracy_score(y_test, y_pred_loaded_rf)\n",
    "print(f\"Loaded Model Accuracy: {accuracy_loaded_rf:.4f}\")\n"
   ]
  },
  {
   "cell_type": "code",
   "execution_count": null,
   "id": "c67ff321",
   "metadata": {},
   "outputs": [],
   "source": []
  }
 ],
 "metadata": {
  "kernelspec": {
   "display_name": "agri",
   "language": "python",
   "name": "agri"
  },
  "language_info": {
   "codemirror_mode": {
    "name": "ipython",
    "version": 3
   },
   "file_extension": ".py",
   "mimetype": "text/x-python",
   "name": "python",
   "nbconvert_exporter": "python",
   "pygments_lexer": "ipython3",
   "version": "3.7.11"
  }
 },
 "nbformat": 4,
 "nbformat_minor": 5
}
